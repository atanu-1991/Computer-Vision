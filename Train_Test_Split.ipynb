{
  "nbformat": 4,
  "nbformat_minor": 0,
  "metadata": {
    "colab": {
      "provenance": []
    },
    "kernelspec": {
      "name": "python3",
      "display_name": "Python 3"
    },
    "language_info": {
      "name": "python"
    },
    "accelerator": "GPU",
    "gpuClass": "standard"
  },
  "cells": [
    {
      "cell_type": "code",
      "execution_count": null,
      "metadata": {
        "colab": {
          "base_uri": "https://localhost:8080/"
        },
        "id": "z8QqK16F-ZCT",
        "outputId": "00424450-b23c-4a3a-f862-bee6e7bf25ab"
      },
      "outputs": [
        {
          "output_type": "stream",
          "name": "stdout",
          "text": [
            "Mounted at /content/gdrive\n"
          ]
        }
      ],
      "source": [
        "from google.colab import drive\n",
        "drive.mount('/content/gdrive')"
      ]
    },
    {
      "cell_type": "code",
      "source": [
        "from imutils import paths\n",
        "\n",
        "dandelion_ImagePaths = list(paths.list_images('/content/gdrive/MyDrive/Colab Notebooks/Computer Vision/Practice/flowers/dandelion'))"
      ],
      "metadata": {
        "id": "1ETwksy2-eiW"
      },
      "execution_count": null,
      "outputs": []
    },
    {
      "cell_type": "code",
      "source": [
        "len(dandelion_ImagePaths)"
      ],
      "metadata": {
        "colab": {
          "base_uri": "https://localhost:8080/"
        },
        "id": "R481Xeq6_KFk",
        "outputId": "69fde2ef-aa89-4297-b693-987409021169"
      },
      "execution_count": null,
      "outputs": [
        {
          "output_type": "execute_result",
          "data": {
            "text/plain": [
              "1052"
            ]
          },
          "metadata": {},
          "execution_count": 4
        }
      ]
    },
    {
      "cell_type": "code",
      "source": [
        "import numpy as np\n",
        "\n",
        "valid_Images = np.random.choice(dandelion_ImagePaths, size=352, replace=False)"
      ],
      "metadata": {
        "id": "Cho1rwMO_O7I"
      },
      "execution_count": null,
      "outputs": []
    },
    {
      "cell_type": "code",
      "source": [
        "len(valid_Images)"
      ],
      "metadata": {
        "colab": {
          "base_uri": "https://localhost:8080/"
        },
        "id": "5VVUR3WK_3Ah",
        "outputId": "830a980b-fc54-49e3-a370-093ab9ca2f32"
      },
      "execution_count": null,
      "outputs": [
        {
          "output_type": "execute_result",
          "data": {
            "text/plain": [
              "352"
            ]
          },
          "metadata": {},
          "execution_count": 6
        }
      ]
    },
    {
      "cell_type": "code",
      "source": [
        "for i in valid_Images:\n",
        "  if i in dandelion_ImagePaths:\n",
        "    dandelion_ImagePaths.remove(i)"
      ],
      "metadata": {
        "id": "lTQZeFFq_55f"
      },
      "execution_count": null,
      "outputs": []
    },
    {
      "cell_type": "code",
      "source": [
        "len(dandelion_ImagePaths)"
      ],
      "metadata": {
        "colab": {
          "base_uri": "https://localhost:8080/"
        },
        "id": "jpJrrX6lA_6H",
        "outputId": "42f42d7f-d78d-4e1a-8819-9fcd2295319a"
      },
      "execution_count": null,
      "outputs": [
        {
          "output_type": "execute_result",
          "data": {
            "text/plain": [
              "700"
            ]
          },
          "metadata": {},
          "execution_count": 8
        }
      ]
    },
    {
      "cell_type": "code",
      "source": [
        "import os\n",
        "import shutil\n",
        "import cv2\n",
        "from PIL import Image\n",
        "dandelion_path = '/content/gdrive/MyDrive/Colab Notebooks/Computer Vision/Practice/flowers/dandelion'\n",
        "train_folder_path = '/content/gdrive/MyDrive/Colab Notebooks/Computer Vision/Practice/flowers/train/dandelion'\n",
        "for image in dandelion_ImagePaths:\n",
        "  i = os.path.split(image)[-1]\n",
        "  # print(i)\n",
        "  cur_image_path = os.path.join(dandelion_path, i)\n",
        "  cur_image_out_path = os.path.join(train_folder_path, i)\n",
        "  shutil.copyfile(cur_image_path, cur_image_out_path)"
      ],
      "metadata": {
        "id": "1XESuV-WBF5t"
      },
      "execution_count": null,
      "outputs": []
    },
    {
      "cell_type": "code",
      "source": [
        "import os\n",
        "import shutil\n",
        "import cv2\n",
        "from PIL import Image\n",
        "dandelion_path = '/content/gdrive/MyDrive/Colab Notebooks/Computer Vision/Practice/flowers/dandelion'\n",
        "train_folder_path = '/content/gdrive/MyDrive/Colab Notebooks/Computer Vision/Practice/flowers/valid/dandelion'\n",
        "for image in valid_Images:\n",
        "  i = os.path.split(image)[-1]\n",
        "  # print(i)\n",
        "  cur_image_path = os.path.join(dandelion_path, i)\n",
        "  cur_image_out_path = os.path.join(train_folder_path, i)\n",
        "  shutil.copyfile(cur_image_path, cur_image_out_path)"
      ],
      "metadata": {
        "id": "K80vX80gB3IN"
      },
      "execution_count": null,
      "outputs": []
    },
    {
      "cell_type": "code",
      "source": [],
      "metadata": {
        "id": "HuIUOrZAbQTF"
      },
      "execution_count": null,
      "outputs": []
    },
    {
      "cell_type": "code",
      "source": [
        "iris_train = list(paths.list_images('/content/gdrive/MyDrive/Colab Notebooks/Computer Vision/Practice/flowers/iris'))"
      ],
      "metadata": {
        "id": "V7RVCMPMcJen"
      },
      "execution_count": null,
      "outputs": []
    },
    {
      "cell_type": "code",
      "source": [
        "len(iris_train)"
      ],
      "metadata": {
        "colab": {
          "base_uri": "https://localhost:8080/"
        },
        "outputId": "03f02246-7976-45db-e6f3-2caecde31a3c",
        "id": "BlwWPCOucJeo"
      },
      "execution_count": null,
      "outputs": [
        {
          "output_type": "execute_result",
          "data": {
            "text/plain": [
              "1054"
            ]
          },
          "metadata": {},
          "execution_count": 12
        }
      ]
    },
    {
      "cell_type": "code",
      "source": [
        "import numpy as np\n",
        "\n",
        "iris_valid = np.random.choice(iris_train, size=354, replace=False)"
      ],
      "metadata": {
        "id": "cbPU-_0jcJep"
      },
      "execution_count": null,
      "outputs": []
    },
    {
      "cell_type": "code",
      "source": [
        "len(iris_valid)"
      ],
      "metadata": {
        "colab": {
          "base_uri": "https://localhost:8080/"
        },
        "outputId": "75c26e3f-7aea-487b-d601-d33633a03f32",
        "id": "bPBLSVm-cJep"
      },
      "execution_count": null,
      "outputs": [
        {
          "output_type": "execute_result",
          "data": {
            "text/plain": [
              "354"
            ]
          },
          "metadata": {},
          "execution_count": 14
        }
      ]
    },
    {
      "cell_type": "code",
      "source": [
        "for i in iris_valid:\n",
        "  if i in iris_train:\n",
        "    iris_train.remove(i)"
      ],
      "metadata": {
        "id": "DIeh9Y0YcJep"
      },
      "execution_count": null,
      "outputs": []
    },
    {
      "cell_type": "code",
      "source": [
        "len(iris_train)"
      ],
      "metadata": {
        "colab": {
          "base_uri": "https://localhost:8080/"
        },
        "outputId": "b0804666-e69f-44c2-ce80-7c79f77514df",
        "id": "6HjS80jAcJeq"
      },
      "execution_count": null,
      "outputs": [
        {
          "output_type": "execute_result",
          "data": {
            "text/plain": [
              "700"
            ]
          },
          "metadata": {},
          "execution_count": 16
        }
      ]
    },
    {
      "cell_type": "code",
      "source": [
        "import os\n",
        "import shutil\n",
        "import cv2\n",
        "from PIL import Image\n",
        "iris_path = '/content/gdrive/MyDrive/Colab Notebooks/Computer Vision/Practice/flowers/iris'\n",
        "train_folder_path = '/content/gdrive/MyDrive/Colab Notebooks/Computer Vision/Practice/flowers/train/iris'\n",
        "for image in iris_train:\n",
        "  i = os.path.split(image)[-1]\n",
        "  # print(i)\n",
        "  cur_image_path = os.path.join(iris_path, i)\n",
        "  cur_image_out_path = os.path.join(train_folder_path, i)\n",
        "  shutil.copyfile(cur_image_path, cur_image_out_path)"
      ],
      "metadata": {
        "id": "Z9KpXQa7cJeq"
      },
      "execution_count": null,
      "outputs": []
    },
    {
      "cell_type": "code",
      "source": [
        "import os\n",
        "import shutil\n",
        "import cv2\n",
        "from PIL import Image\n",
        "iris_path = '/content/gdrive/MyDrive/Colab Notebooks/Computer Vision/Practice/flowers/iris'\n",
        "train_folder_path = '/content/gdrive/MyDrive/Colab Notebooks/Computer Vision/Practice/flowers/valid/iris'\n",
        "for image in iris_valid:\n",
        "  i = os.path.split(image)[-1]\n",
        "  # print(i)\n",
        "  cur_image_path = os.path.join(iris_path, i)\n",
        "  cur_image_out_path = os.path.join(train_folder_path, i)\n",
        "  shutil.copyfile(cur_image_path, cur_image_out_path)"
      ],
      "metadata": {
        "id": "AqhS3U48cJeq"
      },
      "execution_count": null,
      "outputs": []
    },
    {
      "cell_type": "code",
      "source": [],
      "metadata": {
        "id": "Z5Yz5BhofCHj"
      },
      "execution_count": null,
      "outputs": []
    },
    {
      "cell_type": "code",
      "source": [
        "magnolia_train = list(paths.list_images('/content/gdrive/MyDrive/Colab Notebooks/Computer Vision/Practice/flowers/magnolia'))"
      ],
      "metadata": {
        "id": "EHcyTjXbgbaz"
      },
      "execution_count": null,
      "outputs": []
    },
    {
      "cell_type": "code",
      "source": [
        "len(magnolia_train)"
      ],
      "metadata": {
        "colab": {
          "base_uri": "https://localhost:8080/"
        },
        "outputId": "9a02a8f2-8572-4ad9-f1aa-18e65f34bc74",
        "id": "TuW9Bc_Rgba0"
      },
      "execution_count": null,
      "outputs": [
        {
          "output_type": "execute_result",
          "data": {
            "text/plain": [
              "1048"
            ]
          },
          "metadata": {},
          "execution_count": 21
        }
      ]
    },
    {
      "cell_type": "code",
      "source": [
        "import numpy as np\n",
        "\n",
        "magnolia_valid = np.random.choice(magnolia_train, size=348, replace=False)"
      ],
      "metadata": {
        "id": "A3wAtRUGgba0"
      },
      "execution_count": null,
      "outputs": []
    },
    {
      "cell_type": "code",
      "source": [
        "len(magnolia_valid)"
      ],
      "metadata": {
        "colab": {
          "base_uri": "https://localhost:8080/"
        },
        "outputId": "6f47382b-c1dd-41af-e4b0-7b7243cc3f21",
        "id": "I_vRCGIYgba0"
      },
      "execution_count": null,
      "outputs": [
        {
          "output_type": "execute_result",
          "data": {
            "text/plain": [
              "348"
            ]
          },
          "metadata": {},
          "execution_count": 23
        }
      ]
    },
    {
      "cell_type": "code",
      "source": [
        "for i in magnolia_valid:\n",
        "  if i in magnolia_train:\n",
        "    magnolia_train.remove(i)"
      ],
      "metadata": {
        "id": "Zssrg97Agba1"
      },
      "execution_count": null,
      "outputs": []
    },
    {
      "cell_type": "code",
      "source": [
        "len(magnolia_train)"
      ],
      "metadata": {
        "colab": {
          "base_uri": "https://localhost:8080/"
        },
        "outputId": "6028de9c-be3e-46ef-e10b-02597f2b7958",
        "id": "N7p8Mtijgba1"
      },
      "execution_count": null,
      "outputs": [
        {
          "output_type": "execute_result",
          "data": {
            "text/plain": [
              "700"
            ]
          },
          "metadata": {},
          "execution_count": 25
        }
      ]
    },
    {
      "cell_type": "code",
      "source": [
        "import os\n",
        "import shutil\n",
        "import cv2\n",
        "from PIL import Image\n",
        "magnolia_path = '/content/gdrive/MyDrive/Colab Notebooks/Computer Vision/Practice/flowers/magnolia'\n",
        "train_folder_path = '/content/gdrive/MyDrive/Colab Notebooks/Computer Vision/Practice/flowers/train/magnolia'\n",
        "for image in magnolia_train:\n",
        "  i = os.path.split(image)[-1]\n",
        "  # print(i)\n",
        "  cur_image_path = os.path.join(magnolia_path, i)\n",
        "  cur_image_out_path = os.path.join(train_folder_path, i)\n",
        "  shutil.copyfile(cur_image_path, cur_image_out_path)"
      ],
      "metadata": {
        "id": "h37lAVbLgba1"
      },
      "execution_count": null,
      "outputs": []
    },
    {
      "cell_type": "code",
      "source": [
        "import os\n",
        "import shutil\n",
        "import cv2\n",
        "from PIL import Image\n",
        "magnolia_path = '/content/gdrive/MyDrive/Colab Notebooks/Computer Vision/Practice/flowers/magnolia'\n",
        "train_folder_path = '/content/gdrive/MyDrive/Colab Notebooks/Computer Vision/Practice/flowers/valid/magnolia'\n",
        "for image in magnolia_valid:\n",
        "  i = os.path.split(image)[-1]\n",
        "  # print(i)\n",
        "  cur_image_path = os.path.join(magnolia_path, i)\n",
        "  cur_image_out_path = os.path.join(train_folder_path, i)\n",
        "  shutil.copyfile(cur_image_path, cur_image_out_path)"
      ],
      "metadata": {
        "id": "94CpNov_gba1"
      },
      "execution_count": null,
      "outputs": []
    },
    {
      "cell_type": "code",
      "source": [],
      "metadata": {
        "id": "VUpCBudgh7VC"
      },
      "execution_count": null,
      "outputs": []
    },
    {
      "cell_type": "code",
      "source": [
        "sunflower_train = list(paths.list_images('/content/gdrive/MyDrive/Colab Notebooks/Computer Vision/Practice/flowers/sunflower'))"
      ],
      "metadata": {
        "id": "k5BYFYWOiD8l"
      },
      "execution_count": null,
      "outputs": []
    },
    {
      "cell_type": "code",
      "source": [
        "len(sunflower_train)"
      ],
      "metadata": {
        "colab": {
          "base_uri": "https://localhost:8080/"
        },
        "outputId": "e3c04d27-d587-4a4a-9246-757b7b701817",
        "id": "M_YRM7_4iD8l"
      },
      "execution_count": null,
      "outputs": [
        {
          "output_type": "execute_result",
          "data": {
            "text/plain": [
              "1027"
            ]
          },
          "metadata": {},
          "execution_count": 29
        }
      ]
    },
    {
      "cell_type": "code",
      "source": [
        "import numpy as np\n",
        "\n",
        "sunflower_valid = np.random.choice(sunflower_train, size=327, replace=False)"
      ],
      "metadata": {
        "id": "UX_kvlo7iD8m"
      },
      "execution_count": null,
      "outputs": []
    },
    {
      "cell_type": "code",
      "source": [
        "len(sunflower_valid)"
      ],
      "metadata": {
        "colab": {
          "base_uri": "https://localhost:8080/"
        },
        "outputId": "d5948407-75cd-4665-c8ca-97cab082831f",
        "id": "R9IpPpJNiD8m"
      },
      "execution_count": null,
      "outputs": [
        {
          "output_type": "execute_result",
          "data": {
            "text/plain": [
              "327"
            ]
          },
          "metadata": {},
          "execution_count": 31
        }
      ]
    },
    {
      "cell_type": "code",
      "source": [
        "for i in sunflower_valid:\n",
        "  if i in sunflower_train:\n",
        "    sunflower_train.remove(i)"
      ],
      "metadata": {
        "id": "nrB4zDpciD8m"
      },
      "execution_count": null,
      "outputs": []
    },
    {
      "cell_type": "code",
      "source": [
        "len(sunflower_train)"
      ],
      "metadata": {
        "colab": {
          "base_uri": "https://localhost:8080/"
        },
        "outputId": "44280b7f-6436-4b7e-d7bc-6c652df59604",
        "id": "JrWBqWhIiD8n"
      },
      "execution_count": null,
      "outputs": [
        {
          "output_type": "execute_result",
          "data": {
            "text/plain": [
              "700"
            ]
          },
          "metadata": {},
          "execution_count": 33
        }
      ]
    },
    {
      "cell_type": "code",
      "source": [
        "import os\n",
        "import shutil\n",
        "import cv2\n",
        "from PIL import Image\n",
        "sunflower_path = '/content/gdrive/MyDrive/Colab Notebooks/Computer Vision/Practice/flowers/sunflower'\n",
        "train_folder_path = '/content/gdrive/MyDrive/Colab Notebooks/Computer Vision/Practice/flowers/train/sunflower'\n",
        "for image in sunflower_train:\n",
        "  i = os.path.split(image)[-1]\n",
        "  # print(i)\n",
        "  cur_image_path = os.path.join(sunflower_path, i)\n",
        "  cur_image_out_path = os.path.join(train_folder_path, i)\n",
        "  shutil.copyfile(cur_image_path, cur_image_out_path)"
      ],
      "metadata": {
        "id": "OAIRAd1KiD8n"
      },
      "execution_count": null,
      "outputs": []
    },
    {
      "cell_type": "code",
      "source": [
        "import os\n",
        "import shutil\n",
        "import cv2\n",
        "from PIL import Image\n",
        "sunflower_path = '/content/gdrive/MyDrive/Colab Notebooks/Computer Vision/Practice/flowers/sunflower'\n",
        "train_folder_path = '/content/gdrive/MyDrive/Colab Notebooks/Computer Vision/Practice/flowers/valid/sunflower'\n",
        "for image in sunflower_valid:\n",
        "  i = os.path.split(image)[-1]\n",
        "  # print(i)\n",
        "  cur_image_path = os.path.join(sunflower_path, i)\n",
        "  cur_image_out_path = os.path.join(train_folder_path, i)\n",
        "  shutil.copyfile(cur_image_path, cur_image_out_path)"
      ],
      "metadata": {
        "id": "xG3PcXvziD8n"
      },
      "execution_count": null,
      "outputs": []
    },
    {
      "cell_type": "code",
      "source": [],
      "metadata": {
        "id": "-DoIdZHVjFYR"
      },
      "execution_count": null,
      "outputs": []
    },
    {
      "cell_type": "code",
      "source": [
        "tulip_train = list(paths.list_images('/content/gdrive/MyDrive/Colab Notebooks/Computer Vision/Practice/flowers/tulip'))"
      ],
      "metadata": {
        "id": "U6XlfGTEjSiy"
      },
      "execution_count": null,
      "outputs": []
    },
    {
      "cell_type": "code",
      "source": [
        "len(tulip_train)"
      ],
      "metadata": {
        "colab": {
          "base_uri": "https://localhost:8080/"
        },
        "outputId": "36d5dda3-7f71-4159-cc8a-f40e1b494e4a",
        "id": "gKWkrBK_jSiy"
      },
      "execution_count": null,
      "outputs": [
        {
          "output_type": "execute_result",
          "data": {
            "text/plain": [
              "1048"
            ]
          },
          "metadata": {},
          "execution_count": 37
        }
      ]
    },
    {
      "cell_type": "code",
      "source": [
        "import numpy as np\n",
        "\n",
        "tulip_valid = np.random.choice(tulip_train, size=348, replace=False)"
      ],
      "metadata": {
        "id": "9Pm1H-1kjSiz"
      },
      "execution_count": null,
      "outputs": []
    },
    {
      "cell_type": "code",
      "source": [
        "len(tulip_valid)"
      ],
      "metadata": {
        "colab": {
          "base_uri": "https://localhost:8080/"
        },
        "outputId": "8926a623-9d97-408b-f526-3e7a034ca157",
        "id": "GBLk2Q6ijSiz"
      },
      "execution_count": null,
      "outputs": [
        {
          "output_type": "execute_result",
          "data": {
            "text/plain": [
              "348"
            ]
          },
          "metadata": {},
          "execution_count": 39
        }
      ]
    },
    {
      "cell_type": "code",
      "source": [
        "for i in tulip_valid:\n",
        "  if i in tulip_train:\n",
        "    tulip_train.remove(i)"
      ],
      "metadata": {
        "id": "RjDuS9TDjSiz"
      },
      "execution_count": null,
      "outputs": []
    },
    {
      "cell_type": "code",
      "source": [
        "len(tulip_train)"
      ],
      "metadata": {
        "colab": {
          "base_uri": "https://localhost:8080/"
        },
        "outputId": "0f51c472-95a0-41d8-fb71-5d25d5a22b25",
        "id": "0Vtb3oePjSi0"
      },
      "execution_count": null,
      "outputs": [
        {
          "output_type": "execute_result",
          "data": {
            "text/plain": [
              "700"
            ]
          },
          "metadata": {},
          "execution_count": 41
        }
      ]
    },
    {
      "cell_type": "code",
      "source": [
        "import os\n",
        "import shutil\n",
        "import cv2\n",
        "from PIL import Image\n",
        "tulip_path = '/content/gdrive/MyDrive/Colab Notebooks/Computer Vision/Practice/flowers/tulip'\n",
        "train_folder_path = '/content/gdrive/MyDrive/Colab Notebooks/Computer Vision/Practice/flowers/train/tulip'\n",
        "for image in tulip_train:\n",
        "  i = os.path.split(image)[-1]\n",
        "  # print(i)\n",
        "  cur_image_path = os.path.join(tulip_path, i)\n",
        "  cur_image_out_path = os.path.join(train_folder_path, i)\n",
        "  shutil.copyfile(cur_image_path, cur_image_out_path)"
      ],
      "metadata": {
        "id": "TVhUdQlXjSi0"
      },
      "execution_count": null,
      "outputs": []
    },
    {
      "cell_type": "code",
      "source": [
        "import os\n",
        "import shutil\n",
        "import cv2\n",
        "from PIL import Image\n",
        "tulip_path = '/content/gdrive/MyDrive/Colab Notebooks/Computer Vision/Practice/flowers/tulip'\n",
        "train_folder_path = '/content/gdrive/MyDrive/Colab Notebooks/Computer Vision/Practice/flowers/valid/tulip'\n",
        "for image in tulip_valid:\n",
        "  i = os.path.split(image)[-1]\n",
        "  # print(i)\n",
        "  cur_image_path = os.path.join(tulip_path, i)\n",
        "  cur_image_out_path = os.path.join(train_folder_path, i)\n",
        "  shutil.copyfile(cur_image_path, cur_image_out_path)"
      ],
      "metadata": {
        "id": "RDDTPgr1jSi0"
      },
      "execution_count": null,
      "outputs": []
    },
    {
      "cell_type": "code",
      "source": [],
      "metadata": {
        "id": "FMi-ckfzkWnu"
      },
      "execution_count": null,
      "outputs": []
    }
  ]
}